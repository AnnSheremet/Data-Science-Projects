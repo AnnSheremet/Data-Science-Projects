{
 "cells": [
  {
   "cell_type": "markdown",
   "metadata": {},
   "source": [
    "# Отток клиентов"
   ]
  },
  {
   "cell_type": "markdown",
   "metadata": {},
   "source": [
    "Из «Бета-Банка» стали уходить клиенты. Каждый месяц. Немного, но заметно. Банковские маркетологи посчитали: сохранять текущих клиентов дешевле, чем привлекать новых.\n",
    "\n",
    "Нужно спрогнозировать, уйдёт клиент из банка в ближайшее время или нет. Вам предоставлены исторические данные о поведении клиентов и расторжении договоров с банком. \n",
    "\n",
    "Постройте модель с предельно большим значением *F1*-меры. Чтобы сдать проект успешно, нужно довести метрику до 0.59. Проверьте *F1*-меру на тестовой выборке самостоятельно.\n",
    "\n",
    "Дополнительно измеряйте *AUC-ROC*, сравнивайте её значение с *F1*-мерой.\n",
    "\n",
    "Источник данных: [https://www.kaggle.com/barelydedicated/bank-customer-churn-modeling](https://www.kaggle.com/barelydedicated/bank-customer-churn-modeling)"
   ]
  },
  {
   "cell_type": "markdown",
   "metadata": {},
   "source": [
    "# 1. Подготовка данных"
   ]
  },
  {
   "cell_type": "code",
   "execution_count": 1,
   "metadata": {},
   "outputs": [
    {
     "name": "stdout",
     "output_type": "stream",
     "text": [
      "<class 'pandas.core.frame.DataFrame'>\n",
      "RangeIndex: 10000 entries, 0 to 9999\n",
      "Data columns (total 14 columns):\n",
      "RowNumber          10000 non-null int64\n",
      "CustomerId         10000 non-null int64\n",
      "Surname            10000 non-null object\n",
      "CreditScore        10000 non-null int64\n",
      "Geography          10000 non-null object\n",
      "Gender             10000 non-null object\n",
      "Age                10000 non-null int64\n",
      "Tenure             9091 non-null float64\n",
      "Balance            10000 non-null float64\n",
      "NumOfProducts      10000 non-null int64\n",
      "HasCrCard          10000 non-null int64\n",
      "IsActiveMember     10000 non-null int64\n",
      "EstimatedSalary    10000 non-null float64\n",
      "Exited             10000 non-null int64\n",
      "dtypes: float64(3), int64(8), object(3)\n",
      "memory usage: 1.1+ MB\n",
      "<class 'pandas.core.frame.DataFrame'>\n",
      "RangeIndex: 10000 entries, 0 to 9999\n",
      "Data columns (total 12 columns):\n",
      "CreditScore          10000 non-null int64\n",
      "Age                  10000 non-null int64\n",
      "Tenure               10000 non-null float64\n",
      "Balance              10000 non-null float64\n",
      "NumOfProducts        10000 non-null int64\n",
      "HasCrCard            10000 non-null int64\n",
      "IsActiveMember       10000 non-null int64\n",
      "EstimatedSalary      10000 non-null float64\n",
      "Exited               10000 non-null int64\n",
      "Geography_Germany    10000 non-null uint8\n",
      "Geography_Spain      10000 non-null uint8\n",
      "Gender_Male          10000 non-null uint8\n",
      "dtypes: float64(3), int64(6), uint8(3)\n",
      "memory usage: 732.5 KB\n"
     ]
    }
   ],
   "source": [
    "import pandas as pd\n",
    "from sklearn.preprocessing import StandardScaler\n",
    "from sklearn.model_selection import train_test_split \n",
    "from sklearn.preprocessing import OneHotEncoder\n",
    "\n",
    "data = pd.read_csv('/datasets/Churn.csv')\n",
    "data.info()\n",
    "\n",
    "data['Tenure'] = data['Tenure'].fillna(data['Tenure'].median())\n",
    "data  = data.drop(['Surname','CustomerId', 'RowNumber'], axis =1)\n",
    "data_ohe = pd.get_dummies(data, drop_first=True)\n",
    "\n",
    "features = data_ohe.drop(['Exited'], axis =1)\n",
    "target = data_ohe['Exited']\n",
    "\n",
    "data_ohe.info()\n",
    "\n",
    "features_train, features_valid_test, target_train, target_valid_test = train_test_split (\n",
    "    features, target, test_size=0.4, random_state=123\n",
    ")\n",
    "features_valid, features_test, target_valid, target_test = train_test_split (\n",
    "    features_valid_test, target_valid_test, test_size=0.5, random_state=123\n",
    ")\n",
    "\n",
    "scaler = StandardScaler()\n",
    "scaler.fit(features_train)\n",
    "for i in [features_train, features_valid, features_test]:\n",
    "    i = scaler.transform(i)"
   ]
  },
  {
   "cell_type": "markdown",
   "metadata": {},
   "source": [
    "При подготовке данных заполнили пропущенные значения столбца 'Tenure' медианными значениями, избавились от столбцов, не влияющих на обучение 'Surname','CustomerId', 'RowNumber'. Закодировали данные способом OHE и разделили их на 3 группы: обучающую(60%), валидационную(20%) и тестовую(20%).\n",
    "Провели масштабирование признаков."
   ]
  },
  {
   "cell_type": "markdown",
   "metadata": {},
   "source": [
    "# 2. Исследование задачи"
   ]
  },
  {
   "cell_type": "code",
   "execution_count": 2,
   "metadata": {},
   "outputs": [
    {
     "name": "stdout",
     "output_type": "stream",
     "text": [
      "Доля ушедших клиентов = 25.58%\n"
     ]
    },
    {
     "name": "stderr",
     "output_type": "stream",
     "text": [
      "/opt/conda/lib/python3.7/site-packages/sklearn/ensemble/forest.py:245: FutureWarning: The default value of n_estimators will change from 10 in version 0.20 to 100 in 0.22.\n",
      "  \"10 in version 0.20 to 100 in 0.22.\", FutureWarning)\n"
     ]
    },
    {
     "name": "stdout",
     "output_type": "stream",
     "text": [
      "DecisionTreeClassifier ('f1 =', 0.508, 'auc=', 0.696)\n",
      "RandomForestClassifier ('f1 =', 0.54, 'auc=', 0.827)\n",
      "LogisticRegression ('f1 =', 0.067, 'auc=', 0.635)\n"
     ]
    }
   ],
   "source": [
    "from sklearn.tree import  DecisionTreeClassifier\n",
    "from sklearn.ensemble import RandomForestClassifier\n",
    "from sklearn.linear_model import LogisticRegression\n",
    "from sklearn.metrics import f1_score, roc_auc_score\n",
    "\n",
    "print('Доля ушедших клиентов = {:.2%}'.format(((data['Exited']==1).sum())/((data['Exited']==0).sum())))\n",
    "\n",
    "def fitting_model(method_name, features_train, target_train):\n",
    "    model = method_name\n",
    "    model.fit(features_train, target_train)\n",
    "    predictions = model.predict(features_valid)\n",
    "    f1 = f1_score(target_valid, predictions)\n",
    "    probabilities = model.predict_proba(features_valid)\n",
    "    probabilities_one = probabilities[:, 1]\n",
    "    auc = roc_auc_score(target_valid, probabilities_one)\n",
    "    return ('f1 =', f1.round(3), 'auc=', auc.round(3))\n",
    "\n",
    "\n",
    "a = fitting_model(DecisionTreeClassifier(random_state = 123), features_train, target_train)\n",
    "b = fitting_model(RandomForestClassifier(random_state = 123), features_train, target_train)\n",
    "c = fitting_model(LogisticRegression(random_state = 123, solver = 'liblinear'), features_train, target_train)\n",
    "\n",
    "print('DecisionTreeClassifier', a)\n",
    "print('RandomForestClassifier', b)\n",
    "print('LogisticRegression', c)"
   ]
  },
  {
   "cell_type": "markdown",
   "metadata": {},
   "source": [
    "При исследовании баланса классов выяснили, что они несбалансированны. Доля ушедших клиентов составляет 25.58%. \n",
    "Обучили 3 модели без учета дисбаланса классов и настроек параметров. Лучше всего метрики оказались для метода RandomForestClassifier, самые низкие же значения у LogisticRegression."
   ]
  },
  {
   "cell_type": "markdown",
   "metadata": {},
   "source": [
    "# 3. Борьба с дисбалансом"
   ]
  },
  {
   "cell_type": "code",
   "execution_count": 17,
   "metadata": {},
   "outputs": [
    {
     "name": "stdout",
     "output_type": "stream",
     "text": [
      "Наибольший f1 для различных моделей:\n",
      "                 DecisionTreeClassifier  RandomForestClassifier\n",
      "upsampling                     0.900101                0.938654\n",
      "downsampling                   0.707634                0.720016\n",
      "without_scaling                0.530358                0.577116\n",
      "Наибольший auc-roc для различных моделей:\n",
      "                 DecisionTreeClassifier  RandomForestClassifier\n",
      "upsampling                     0.899650                0.956197\n",
      "downsampling                   0.717480                0.822611\n",
      "without_scaling                0.710528                0.828993\n"
     ]
    }
   ],
   "source": [
    "from sklearn.utils import shuffle \n",
    "from sklearn.model_selection import GridSearchCV\n",
    "\n",
    "def zeros(features, target):\n",
    "    features_zeros = features[target == 0]\n",
    "    features_ones = features[target == 1]\n",
    "    target_zeros = target[target == 0]\n",
    "    target_ones = target[target == 1]\n",
    "    return features_zeros, features_ones, target_zeros, target_ones\n",
    "    \n",
    "def upsample(features, target): \n",
    "    features_zeros, features_ones, target_zeros, target_ones = zeros(features, target)\n",
    "    features_upsampled = pd.concat([features_zeros] + [features_ones] * 3)\n",
    "    target_upsampled = pd.concat([target_zeros] + [target_ones] * 3)\n",
    "    \n",
    "    features_upsampled, target_upsampled = shuffle(\n",
    "        features_upsampled, target_upsampled, random_state=123)\n",
    "    \n",
    "    return features_upsampled, target_upsampled\n",
    "\n",
    "features_upsampled, target_upsampled = upsample(features_train, target_train)\n",
    "\n",
    "def downsample(features, target):  \n",
    "    features_zeros, features_ones, target_zeros, target_ones = zeros(features, target)\n",
    "    features_downsampled = pd.concat([features_zeros.sample(frac=1/3, random_state=123)] + [features_ones])\n",
    "    target_downsampled = pd.concat([target_zeros.sample(frac=1/3, random_state=123)] + [target_ones])\n",
    "    \n",
    "    features_downsampled, target_downsampled = shuffle(\n",
    "    features_downsampled, target_downsampled, random_state=123)\n",
    "        \n",
    "    return features_downsampled, target_downsampled        \n",
    "\n",
    "features_downsampled, target_downsampled = downsample(features_train, target_train)\n",
    "\n",
    "parameters_DTC = {'max_depth':range(5,56,10), 'criterion':['gini', 'entropy'], 'min_samples_split':[2,3,4]}\n",
    "parameters_RFC = {'n_estimators':range(5,56,10), 'max_depth':range(5,56,10), 'min_samples_split':[2,3,4]}\n",
    "\n",
    "model_1 = DecisionTreeClassifier(random_state = 123)\n",
    "model_2 = RandomForestClassifier(random_state = 123)\n",
    "\n",
    "gread_search_DTC = GridSearchCV(estimator = model_1, param_grid = parameters_DTC, scoring='['f1', 'roc_auc'], refit='f1'', cv=5)\n",
    "gread_search_RFC = GridSearchCV(estimator = model_2, param_grid = parameters_RFC, scoring=['f1', 'roc_auc'], refit='f1', cv=5)\n",
    "\n",
    "DTC_up = gread_search_DTC.fit(features_upsampled, target_upsampled)\n",
    "DTC_up_best = DTC_up.best_score_\n",
    "DTC_up_roc_auc = DTC_up.cv_results_['mean_test_roc_auc'].mean()\n",
    "DTC_down = gread_search_DTC.fit(features_downsampled, target_downsampled)\n",
    "DTC_down_best = DTC_down.best_score_\n",
    "DTC_down_roc_auc = DTC_down.cv_results_['mean_test_roc_auc'].mean()\n",
    "\n",
    "RFC_up = gread_search_RFC.fit(features_upsampled, target_upsampled)\n",
    "RFC_up_best = RFC_up.best_score_\n",
    "RFC_up_roc_auc = RFC_up.cv_results_['mean_test_roc_auc'].mean()\n",
    "RFC_up__parameters = RFC_up.best_params_\n",
    "RFC_down = gread_search_RFC.fit(features_downsampled, target_downsampled)\n",
    "RFC_down_best = RFC_down.best_score_\n",
    "RFC_down_roc_auc = RFC_down.cv_results_['mean_test_roc_auc'].mean()\n",
    "DTC_no_scale = gread_search_DTC.fit(features_train, target_train)\n",
    "RFC_no_scale = gread_search_RFC.fit(features_train, target_train)\n",
    "\n",
    "print('Наибольший f1 для различных моделей:')\n",
    "best_f1 = pd.DataFrame(\n",
    "    data=[[DTC_up_best, RFC_up_best], [DTC_down_best, RFC_down_best], [DTC_no_scale.best_score_, RFC_no_scale.best_score_]], \n",
    "    index=['upsampling', 'downsampling', 'without_scaling'],\n",
    "    columns=['DecisionTreeClassifier', 'RandomForestClassifier']\n",
    ") \n",
    "print(best_f1)\n",
    "print()\n",
    "\n",
    "print('Наибольший auc-roc для различных моделей:')\n",
    "best_auc_roc = pd.DataFrame(\n",
    "    data=[\n",
    "        [DTC_up_roc_auc, RFC_up_roc_auc], \n",
    "        [DTC_down_roc_auc, RFC_down_roc_auc], \n",
    "        [DTC_no_scale.cv_results_['mean_test_roc_auc'].mean(), RFC_no_scale.cv_results_['mean_test_roc_auc'].mean()]\n",
    "    ], \n",
    "    index=['upsampling', 'downsampling', 'without_scaling'],\n",
    "    columns=['DecisionTreeClassifier', 'RandomForestClassifier']\n",
    ") \n",
    "print(best_auc_roc)"
   ]
  },
  {
   "cell_type": "code",
   "execution_count": 18,
   "metadata": {},
   "outputs": [
    {
     "name": "stdout",
     "output_type": "stream",
     "text": [
      "Лучшие параметры для RandomForestClassifier при борьбе с дисбалансом с помощью upsample:\n",
      "{'max_depth': 25, 'min_samples_split': 2, 'n_estimators': 55}\n"
     ]
    }
   ],
   "source": [
    "print(\"Лучшие параметры для RandomForestClassifier при борьбе с дисбалансом с помощью upsample:\")\n",
    "print(RFC_up__parameters)"
   ]
  },
  {
   "cell_type": "markdown",
   "metadata": {},
   "source": [
    "Параметры для DecisionTreeClassifier и RandomForestClassifier перебирали с помощью GridSearchCV. Логистическую регрессию не стали рассматривать из-за очень низкого f1 в предыдущем шаге. В сводных таблицах рассмотрели метрики f1 и auc-roc для каждой из моделей: с дисбалансом классов, избавившись от дисбаланса с помощью upsampling и downsampling. В среднем значения RandomForestClassifier лучше, чем у DecisionTreeClassifier, а борьба с дисбалансом с помощью upsampling показывает результаты лучше, чем downsampling и данных с дисбалансом.\n",
    "Самого лучшего результата удалось добиться при использовании RandomForestClassifier на данных, где с дисбалансом боролись с помощью upsampling с параметрами max_depth = 25, min_samples_split = 2, n_estimators = 55."
   ]
  },
  {
   "cell_type": "markdown",
   "metadata": {},
   "source": [
    "# 4. Тестирование модели"
   ]
  },
  {
   "cell_type": "code",
   "execution_count": 19,
   "metadata": {},
   "outputs": [
    {
     "name": "stdout",
     "output_type": "stream",
     "text": [
      "f1 на валидационной выборке = 0.6170798898071626\n",
      "auc_roc на валидационной выборке = 0.8597178410908332\n",
      "\n",
      "f1 на тестовой выборке = 0.6208791208791209\n",
      "auc_roc на тестовой выборке = 0.8488082830839474\n"
     ]
    }
   ],
   "source": [
    "model_best = RandomForestClassifier(max_depth= 25, n_estimators= 55, min_samples_split = 2, random_state = 123)\n",
    "model_best.fit(features_upsampled, target_upsampled)\n",
    "\n",
    "predictions_new = model_best.predict(features_valid)\n",
    "f1 = f1_score(target_valid, predictions_new)\n",
    "probabilities = model_best.predict_proba(features_valid)\n",
    "probabilities_one = probabilities[:, 1]\n",
    "auc = roc_auc_score(target_valid, probabilities_one)\n",
    "print('f1 на валидационной выборке =', f1)\n",
    "print('auc_roc на валидационной выборке =', auc)\n",
    "print()\n",
    "\n",
    "predictions_test = model_best.predict(features_test)\n",
    "f1 = f1_score(target_test, predictions_test)\n",
    "probabilities = model_best.predict_proba(features_test)\n",
    "probabilities_one = probabilities[:, 1]\n",
    "auc = roc_auc_score(target_test, probabilities_one)\n",
    "print('f1 на тестовой выборке =', f1)\n",
    "print('auc_roc на тестовой выборке =', auc)"
   ]
  },
  {
   "cell_type": "code",
   "execution_count": 20,
   "metadata": {},
   "outputs": [
    {
     "data": {
      "image/png": "[encoded data removed]",
      "text/plain": [
       "<Figure size 432x432 with 1 Axes>"
      ]
     },
     "metadata": {
      "needs_background": "light"
     },
     "output_type": "display_data"
    }
   ],
   "source": [
    "import matplotlib.pyplot as plt\n",
    "from sklearn.metrics import roc_curve\n",
    "fpr, tpr, thresholds = roc_curve(target_test, probabilities_one)\n",
    "plt.figure(figsize=(6,6))\n",
    "plt.xlim([0,1])\n",
    "plt.ylim([0,1])\n",
    "plt.plot([0, 1], [0, 1], linestyle='--')\n",
    "plt.step(fpr, tpr, where='post')\n",
    "plt.xlabel('False Positive Rate')\n",
    "plt.ylabel('True Positive Rate')\n",
    "plt.title('ROC-кривая')\n",
    "plt.show()"
   ]
  },
  {
   "cell_type": "markdown",
   "metadata": {},
   "source": [
    "Обучили модель с помощью параметров, подобранных в предудущем шаге. Вычислили метрики F1 и AUC-ROC как на валидационной, так и на тестовой выборках. Построили ROC-кривую для тестовой выборки."
   ]
  }
 ],
 "metadata": {
  "kernelspec": {
   "display_name": "Python 3",
   "language": "python",
   "name": "python3"
  },
  "language_info": {
   "codemirror_mode": {
    "name": "ipython",
    "version": 3
   },
   "file_extension": ".py",
   "mimetype": "text/x-python",
   "name": "python",
   "nbconvert_exporter": "python",
   "pygments_lexer": "ipython3",
   "version": "3.8.5"
  },
  "toc": {
   "base_numbering": 1,
   "nav_menu": {},
   "number_sections": true,
   "sideBar": true,
   "skip_h1_title": true,
   "title_cell": "Table of Contents",
   "title_sidebar": "Contents",
   "toc_cell": false,
   "toc_position": {},
   "toc_section_display": true,
   "toc_window_display": false
  }
 },
 "nbformat": 4,
 "nbformat_minor": 2
}
